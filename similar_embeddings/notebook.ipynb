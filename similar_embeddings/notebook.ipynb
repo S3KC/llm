{
 "cells": [
  {
   "metadata": {},
   "cell_type": "markdown",
   "source": "# Similar Embeddings\n",
   "id": "8a77807f92f26ee"
  },
  {
   "metadata": {
    "jupyter": {
     "is_executing": true
    }
   },
   "cell_type": "code",
   "source": [
    "from sentence_transformers import SentenceTransformer\n",
    "import numpy as np\n",
    "from scipy.special import softmax\n",
    "print(f\"sentence_transformers version: {SentenceTransformer.__version__}\")"
   ],
   "id": "fbc121e30a2defb3",
   "outputs": [],
   "execution_count": null
  },
  {
   "metadata": {},
   "cell_type": "code",
   "outputs": [],
   "execution_count": null,
   "source": [
    "# Load a pre-trained model\n",
    "model = SentenceTransformer('all-MiniLM-L6-v2')"
   ],
   "id": "135435109995fc33"
  },
  {
   "metadata": {},
   "cell_type": "code",
   "outputs": [],
   "execution_count": null,
   "source": [
    "# List of words to get embeddings for\n",
    "words = [\"king\", \"man\", \"woman\", \"queen\", \"princess\", \"monarch\", \"empress\", \"duchess\", \"lady\", \"baseball\", \"floor\", \"monitor\"]"
   ],
   "id": "fcda87436665d662"
  },
  {
   "metadata": {},
   "cell_type": "code",
   "outputs": [],
   "execution_count": null,
   "source": [
    "# Get embeddings for all words\n",
    "embeddings = model.encode(words)\n",
    "\n",
    "# Create a mapping from word to embedding\n",
    "word_to_embedding = dict(zip(words, embeddings))"
   ],
   "id": "e1b7cb3151e30c24"
  },
  {
   "metadata": {},
   "cell_type": "code",
   "outputs": [],
   "execution_count": null,
   "source": [
    "# Extract embeddings\n",
    "embedding_king = word_to_embedding[\"king\"]\n",
    "embedding_man = word_to_embedding[\"man\"]\n",
    "embedding_woman = word_to_embedding[\"woman\"]\n",
    "\n",
    "# Perform the vector arithmetic\n",
    "result_vector = embedding_king - embedding_man + embedding_woman"
   ],
   "id": "b24df93075b0940f"
  },
  {
   "metadata": {},
   "cell_type": "code",
   "outputs": [],
   "execution_count": null,
   "source": [
    "# Calculate cosine similarities with other words\n",
    "similarities = []\n",
    "print(\"Cosine Similarities:\")\n",
    "for word in words[3:]:  # skip \"king\", \"man\", \"woman\"\n",
    "    embedding_word = word_to_embedding[word]\n",
    "    similarity = np.dot(result_vector, embedding_word) / (np.linalg.norm(result_vector) * np.linalg.norm(embedding_word))\n",
    "    similarities.append(similarity)\n",
    "    print(f\"Similarity with '{word}': {similarity:.4f}\")\n",
    "\n",
    "# Shift the similarities to be positive\n",
    "min_similarity = min(similarities)\n",
    "shifted_similarities = [sim - min_similarity for sim in similarities]\n",
    "\n",
    "# Use softmax to get the most probable word\n",
    "temperature = 0.01\n",
    "scaled_similarities = [sim / temperature for sim in shifted_similarities]\n",
    "probabilities = softmax(scaled_similarities)\n",
    "print(\"\\nSoftmax Probabilities:\")\n",
    "for word, probability in zip(words[3:], probabilities):\n",
    "    print(f\"Probability for '{word}': {probability:.4f}\")"
   ],
   "id": "5b84020a3ebed059"
  }
 ],
 "metadata": {
  "kernelspec": {
   "display_name": "Python 3",
   "language": "python",
   "name": "python3"
  },
  "language_info": {
   "codemirror_mode": {
    "name": "ipython",
    "version": 2
   },
   "file_extension": ".py",
   "mimetype": "text/x-python",
   "name": "python",
   "nbconvert_exporter": "python",
   "pygments_lexer": "ipython2",
   "version": "2.7.6"
  }
 },
 "nbformat": 4,
 "nbformat_minor": 5
}
